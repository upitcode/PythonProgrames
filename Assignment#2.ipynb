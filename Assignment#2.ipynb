{
 "cells": [
  {
   "cell_type": "markdown",
   "metadata": {},
   "source": [
    "# Question 1\n",
    "## Write a Python program to remove empty List from List."
   ]
  },
  {
   "cell_type": "code",
   "execution_count": null,
   "metadata": {},
   "outputs": [],
   "source": [
    "test_list = [5, 6, [], 3, [], [], 9] \n",
    " \n",
    "print(\"The original list is : \" + str(test_list)) \n",
    "\n",
    "res = list(filter(None, test_list)) \n",
    "\n",
    "print (\"List after empty list removal : \" + str(res)) "
   ]
  },
  {
   "cell_type": "markdown",
   "metadata": {},
   "source": [
    "# Question 2\n",
    "## Write a Python program to remove all duplicates words from a given sentence."
   ]
  },
  {
   "cell_type": "code",
   "execution_count": null,
   "metadata": {},
   "outputs": [],
   "source": [
    "s = \"Python is great and Java is also great\"\n",
    "l = s.split() \n",
    "k = [] \n",
    "for i in l: \n",
    "\n",
    "    if (s.count(i)>1 and (i not in k)or s.count(i)==1): \n",
    "        k.append(i) \n",
    "print(' '.join(k)) "
   ]
  },
  {
   "cell_type": "markdown",
   "metadata": {},
   "source": [
    "# Question 3\n",
    "## Write a Python program to find all occurrences of a character in the given string"
   ]
  },
  {
   "cell_type": "code",
   "execution_count": null,
   "metadata": {},
   "outputs": [],
   "source": [
    "inp_str = \"GeeksforGeeks\"\n",
    "\n",
    "freq = {}  \n",
    "    \n",
    "for ele in inp_str:  \n",
    "    if ele in freq:  \n",
    "        freq[ele] += 1\n",
    "    else:  \n",
    "        freq[ele] = 1\n",
    "\n",
    "print (\"Occurrence of all characters in GeeksforGeeks is :\\n \"+ str(freq))  "
   ]
  },
  {
   "cell_type": "code",
   "execution_count": null,
   "metadata": {},
   "outputs": [],
   "source": []
  }
 ],
 "metadata": {
  "kernelspec": {
   "display_name": "Python 3",
   "language": "python",
   "name": "python3"
  },
  "language_info": {
   "codemirror_mode": {
    "name": "ipython",
    "version": 3
   },
   "file_extension": ".py",
   "mimetype": "text/x-python",
   "name": "python",
   "nbconvert_exporter": "python",
   "pygments_lexer": "ipython3",
   "version": "3.7.6"
  }
 },
 "nbformat": 4,
 "nbformat_minor": 4
}
